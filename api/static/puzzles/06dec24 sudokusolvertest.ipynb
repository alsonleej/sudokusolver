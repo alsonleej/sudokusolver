{
 "cells": [
  {
   "cell_type": "code",
   "execution_count": 2,
   "id": "2e305c2f",
   "metadata": {},
   "outputs": [],
   "source": [
    "import numpy as np\n",
    "import random\n",
    "from flask import flash\n",
    "\n",
    "\n",
    "aq = 0\n",
    "def solve(grid):\n",
    "    global aq\n",
    "    aq +=1\n",
    "\n",
    "    arr = grid\n",
    "\n",
    "    # Check which row / column / box has the least empty squares, to fill that first\n",
    "    rowblanks=[0]*9\n",
    "    colblanks=[0]*9\n",
    "    boxblanks=[0]*9\n",
    "\n",
    "    for row in range(0,9): # excludes 9\n",
    "        for col in range(0,9):\n",
    "            if arr[row][col]==0:\n",
    "                rowblanks[row]+=1\n",
    "                colblanks[col]+=1\n",
    "                bigsqno = (row//3)*3 + col//3\n",
    "                boxblanks[bigsqno]+=1\n",
    "\n",
    "    joinedlist = rowblanks+colblanks+boxblanks\n",
    "    joinedlist = [x for x in joinedlist if x != 0] #at least 1 empty square, dont count the fully filled ones already\n",
    "\n",
    "    # Base case of all squares filled (successfully solved)\n",
    "    if joinedlist==[]:\n",
    "        return True # Return to the previous call on the stack\n",
    "\n",
    "    least = min(joinedlist) #no. of least empty squares\n",
    "\n",
    "    if least in boxblanks:\n",
    "        bigsqno=boxblanks.index(least)\n",
    "        #coords for the top left box in the big box(3x3)\n",
    "        topleftrow=(bigsqno//3)*3\n",
    "        topleftcol=(bigsqno-topleftrow)*3\n",
    "        #for every box in big box\n",
    "        for row in range(topleftrow,topleftrow+3):\n",
    "            for col in range(topleftcol,topleftcol+3):\n",
    "                if arr[row][col] == 0:\n",
    "                    for val in range(1,10): #iterate through each possible value to put in the box\n",
    "                        if isvalid(val, row, col, arr):\n",
    "                            arr[row][col] = val\n",
    "                            if solve(arr) == False: #backtracking\n",
    "                                arr[row][col] = 0 # removes prev value\n",
    "                                continue # goes back to val iterating to the next value and finding the next valid value\n",
    "                            else:\n",
    "                                return True\n",
    "                    return False #all values 1-9 has been exhausted. return to previous call on stack\n",
    "                \n",
    "    elif least in rowblanks:\n",
    "        for col in range(0,9):\n",
    "            if arr[rowblanks.index(least)][col] == 0:\n",
    "                for val in range(1,10): #iterate through each possible value to put in the box\n",
    "                    if isvalid(val, rowblanks.index(least), col, arr):\n",
    "                        arr[rowblanks.index(least)][col] = val\n",
    "                        if solve(arr) == False: #backtracking\n",
    "                            arr[rowblanks.index(least)][col] = 0 # removes prev value\n",
    "                            continue # goes back to val iterating to the next value and finding the next valid value\n",
    "                        else:\n",
    "                            return True\n",
    "                return False # all values 1-9 has been exhausted. return to previous call on stack\n",
    "\n",
    "    elif least in colblanks:\n",
    "        for row in range(0,9):\n",
    "            if arr[row][colblanks.index(least)] == 0:\n",
    "                for val in range(1,10): #iterate through each possible value to put in the box\n",
    "                    if isvalid(val, row, colblanks.index(least), arr):\n",
    "                        arr[row][colblanks.index(least)] = val\n",
    "                        if solve(arr) == False: #backtracking\n",
    "                            arr[row][colblanks.index(least)] = 0 # removes prev value\n",
    "                            continue # goes back to val iterating to the next value and finding the next valid value\n",
    "                        else:\n",
    "                            return True\n",
    "                return False # all values 1-9 has been exhausted. return to previous call on stack\n",
    "\n",
    "\n",
    "\n",
    "\n",
    "\n",
    "def isvalid(val, inrow, incol, arr):\n",
    "\n",
    "    #If the same number already exists on the same row\n",
    "    for row in range(0,9):\n",
    "        if arr[row][incol] == val:\n",
    "            return False\n",
    "\n",
    "    #If the same number already exists on the same col\n",
    "    for col in range(0,9):\n",
    "        if arr[inrow][col] == val:\n",
    "            return False\n",
    "\n",
    "    #If the same number already exists on the same box (3*3)\n",
    "    topleftrow=(inrow//3)*3\n",
    "    topleftcol=(incol//3)*3\n",
    "    for row in range(topleftrow,topleftrow+3):\n",
    "        for col in range(topleftcol,topleftcol+3):\n",
    "            if arr[row][col] == val:\n",
    "                return False\n",
    "\n",
    "    return True\n",
    "\n"
   ]
  },
  {
   "cell_type": "code",
   "execution_count": 5,
   "id": "024ab606",
   "metadata": {},
   "outputs": [
    {
     "name": "stdout",
     "output_type": "stream",
     "text": [
      "1124\n",
      "2801\n",
      "3150\n",
      "283\n",
      "3336\n",
      "5359\n",
      "6994\n",
      "34411\n",
      "166\n",
      "1663\n",
      "7199\n",
      "1351\n",
      "353\n",
      "5319\n",
      "1242\n",
      "6011\n",
      "188165\n",
      "322\n",
      "83\n",
      "4478\n",
      "5738\n",
      "1963\n",
      "1341\n",
      "7180\n",
      "1213\n",
      "224\n",
      "1268\n"
     ]
    },
    {
     "ename": "KeyboardInterrupt",
     "evalue": "",
     "output_type": "error",
     "traceback": [
      "\u001b[1;31m---------------------------------------------------------------------------\u001b[0m",
      "\u001b[1;31mKeyboardInterrupt\u001b[0m                         Traceback (most recent call last)",
      "Cell \u001b[1;32mIn[5], line 16\u001b[0m\n\u001b[0;32m     13\u001b[0m             val \u001b[38;5;241m=\u001b[39m \u001b[38;5;241m0\u001b[39m\n\u001b[0;32m     15\u001b[0m         arr[row][col] \u001b[38;5;241m=\u001b[39m val\n\u001b[1;32m---> 16\u001b[0m solve(arr)\n\u001b[0;32m     17\u001b[0m \u001b[38;5;28;01mglobal\u001b[39;00m aq\n\u001b[0;32m     18\u001b[0m steps\u001b[38;5;241m.\u001b[39mappend(aq)\n",
      "Cell \u001b[1;32mIn[2], line 47\u001b[0m, in \u001b[0;36msolve\u001b[1;34m(grid)\u001b[0m\n\u001b[0;32m     45\u001b[0m \u001b[38;5;28;01mif\u001b[39;00m isvalid(val, row, col, arr):\n\u001b[0;32m     46\u001b[0m     arr[row][col] \u001b[38;5;241m=\u001b[39m val\n\u001b[1;32m---> 47\u001b[0m     \u001b[38;5;28;01mif\u001b[39;00m solve(arr) \u001b[38;5;241m==\u001b[39m \u001b[38;5;28;01mFalse\u001b[39;00m: \u001b[38;5;66;03m#backtracking\u001b[39;00m\n\u001b[0;32m     48\u001b[0m         arr[row][col] \u001b[38;5;241m=\u001b[39m \u001b[38;5;241m0\u001b[39m \u001b[38;5;66;03m# removes prev value\u001b[39;00m\n\u001b[0;32m     49\u001b[0m         \u001b[38;5;28;01mcontinue\u001b[39;00m \u001b[38;5;66;03m# goes back to val iterating to the next value and finding the next valid value\u001b[39;00m\n",
      "Cell \u001b[1;32mIn[2], line 47\u001b[0m, in \u001b[0;36msolve\u001b[1;34m(grid)\u001b[0m\n\u001b[0;32m     45\u001b[0m \u001b[38;5;28;01mif\u001b[39;00m isvalid(val, row, col, arr):\n\u001b[0;32m     46\u001b[0m     arr[row][col] \u001b[38;5;241m=\u001b[39m val\n\u001b[1;32m---> 47\u001b[0m     \u001b[38;5;28;01mif\u001b[39;00m solve(arr) \u001b[38;5;241m==\u001b[39m \u001b[38;5;28;01mFalse\u001b[39;00m: \u001b[38;5;66;03m#backtracking\u001b[39;00m\n\u001b[0;32m     48\u001b[0m         arr[row][col] \u001b[38;5;241m=\u001b[39m \u001b[38;5;241m0\u001b[39m \u001b[38;5;66;03m# removes prev value\u001b[39;00m\n\u001b[0;32m     49\u001b[0m         \u001b[38;5;28;01mcontinue\u001b[39;00m \u001b[38;5;66;03m# goes back to val iterating to the next value and finding the next valid value\u001b[39;00m\n",
      "    \u001b[1;31m[... skipping similar frames: solve at line 47 (2 times)]\u001b[0m\n",
      "Cell \u001b[1;32mIn[2], line 60\u001b[0m, in \u001b[0;36msolve\u001b[1;34m(grid)\u001b[0m\n\u001b[0;32m     58\u001b[0m \u001b[38;5;28;01mif\u001b[39;00m isvalid(val, rowblanks\u001b[38;5;241m.\u001b[39mindex(least), col, arr):\n\u001b[0;32m     59\u001b[0m     arr[rowblanks\u001b[38;5;241m.\u001b[39mindex(least)][col] \u001b[38;5;241m=\u001b[39m val\n\u001b[1;32m---> 60\u001b[0m     \u001b[38;5;28;01mif\u001b[39;00m solve(arr) \u001b[38;5;241m==\u001b[39m \u001b[38;5;28;01mFalse\u001b[39;00m: \u001b[38;5;66;03m#backtracking\u001b[39;00m\n\u001b[0;32m     61\u001b[0m         arr[rowblanks\u001b[38;5;241m.\u001b[39mindex(least)][col] \u001b[38;5;241m=\u001b[39m \u001b[38;5;241m0\u001b[39m \u001b[38;5;66;03m# removes prev value\u001b[39;00m\n\u001b[0;32m     62\u001b[0m         \u001b[38;5;28;01mcontinue\u001b[39;00m \u001b[38;5;66;03m# goes back to val iterating to the next value and finding the next valid value\u001b[39;00m\n",
      "Cell \u001b[1;32mIn[2], line 60\u001b[0m, in \u001b[0;36msolve\u001b[1;34m(grid)\u001b[0m\n\u001b[0;32m     58\u001b[0m \u001b[38;5;28;01mif\u001b[39;00m isvalid(val, rowblanks\u001b[38;5;241m.\u001b[39mindex(least), col, arr):\n\u001b[0;32m     59\u001b[0m     arr[rowblanks\u001b[38;5;241m.\u001b[39mindex(least)][col] \u001b[38;5;241m=\u001b[39m val\n\u001b[1;32m---> 60\u001b[0m     \u001b[38;5;28;01mif\u001b[39;00m solve(arr) \u001b[38;5;241m==\u001b[39m \u001b[38;5;28;01mFalse\u001b[39;00m: \u001b[38;5;66;03m#backtracking\u001b[39;00m\n\u001b[0;32m     61\u001b[0m         arr[rowblanks\u001b[38;5;241m.\u001b[39mindex(least)][col] \u001b[38;5;241m=\u001b[39m \u001b[38;5;241m0\u001b[39m \u001b[38;5;66;03m# removes prev value\u001b[39;00m\n\u001b[0;32m     62\u001b[0m         \u001b[38;5;28;01mcontinue\u001b[39;00m \u001b[38;5;66;03m# goes back to val iterating to the next value and finding the next valid value\u001b[39;00m\n",
      "    \u001b[1;31m[... skipping similar frames: solve at line 60 (4 times), solve at line 47 (4 times)]\u001b[0m\n",
      "Cell \u001b[1;32mIn[2], line 60\u001b[0m, in \u001b[0;36msolve\u001b[1;34m(grid)\u001b[0m\n\u001b[0;32m     58\u001b[0m \u001b[38;5;28;01mif\u001b[39;00m isvalid(val, rowblanks\u001b[38;5;241m.\u001b[39mindex(least), col, arr):\n\u001b[0;32m     59\u001b[0m     arr[rowblanks\u001b[38;5;241m.\u001b[39mindex(least)][col] \u001b[38;5;241m=\u001b[39m val\n\u001b[1;32m---> 60\u001b[0m     \u001b[38;5;28;01mif\u001b[39;00m solve(arr) \u001b[38;5;241m==\u001b[39m \u001b[38;5;28;01mFalse\u001b[39;00m: \u001b[38;5;66;03m#backtracking\u001b[39;00m\n\u001b[0;32m     61\u001b[0m         arr[rowblanks\u001b[38;5;241m.\u001b[39mindex(least)][col] \u001b[38;5;241m=\u001b[39m \u001b[38;5;241m0\u001b[39m \u001b[38;5;66;03m# removes prev value\u001b[39;00m\n\u001b[0;32m     62\u001b[0m         \u001b[38;5;28;01mcontinue\u001b[39;00m \u001b[38;5;66;03m# goes back to val iterating to the next value and finding the next valid value\u001b[39;00m\n",
      "    \u001b[1;31m[... skipping similar frames: solve at line 47 (3 times)]\u001b[0m\n",
      "Cell \u001b[1;32mIn[2], line 73\u001b[0m, in \u001b[0;36msolve\u001b[1;34m(grid)\u001b[0m\n\u001b[0;32m     71\u001b[0m \u001b[38;5;28;01mif\u001b[39;00m isvalid(val, row, colblanks\u001b[38;5;241m.\u001b[39mindex(least), arr):\n\u001b[0;32m     72\u001b[0m     arr[row][colblanks\u001b[38;5;241m.\u001b[39mindex(least)] \u001b[38;5;241m=\u001b[39m val\n\u001b[1;32m---> 73\u001b[0m     \u001b[38;5;28;01mif\u001b[39;00m solve(arr) \u001b[38;5;241m==\u001b[39m \u001b[38;5;28;01mFalse\u001b[39;00m: \u001b[38;5;66;03m#backtracking\u001b[39;00m\n\u001b[0;32m     74\u001b[0m         arr[row][colblanks\u001b[38;5;241m.\u001b[39mindex(least)] \u001b[38;5;241m=\u001b[39m \u001b[38;5;241m0\u001b[39m \u001b[38;5;66;03m# removes prev value\u001b[39;00m\n\u001b[0;32m     75\u001b[0m         \u001b[38;5;28;01mcontinue\u001b[39;00m \u001b[38;5;66;03m# goes back to val iterating to the next value and finding the next valid value\u001b[39;00m\n",
      "Cell \u001b[1;32mIn[2], line 73\u001b[0m, in \u001b[0;36msolve\u001b[1;34m(grid)\u001b[0m\n\u001b[0;32m     71\u001b[0m \u001b[38;5;28;01mif\u001b[39;00m isvalid(val, row, colblanks\u001b[38;5;241m.\u001b[39mindex(least), arr):\n\u001b[0;32m     72\u001b[0m     arr[row][colblanks\u001b[38;5;241m.\u001b[39mindex(least)] \u001b[38;5;241m=\u001b[39m val\n\u001b[1;32m---> 73\u001b[0m     \u001b[38;5;28;01mif\u001b[39;00m solve(arr) \u001b[38;5;241m==\u001b[39m \u001b[38;5;28;01mFalse\u001b[39;00m: \u001b[38;5;66;03m#backtracking\u001b[39;00m\n\u001b[0;32m     74\u001b[0m         arr[row][colblanks\u001b[38;5;241m.\u001b[39mindex(least)] \u001b[38;5;241m=\u001b[39m \u001b[38;5;241m0\u001b[39m \u001b[38;5;66;03m# removes prev value\u001b[39;00m\n\u001b[0;32m     75\u001b[0m         \u001b[38;5;28;01mcontinue\u001b[39;00m \u001b[38;5;66;03m# goes back to val iterating to the next value and finding the next valid value\u001b[39;00m\n",
      "    \u001b[1;31m[... skipping similar frames: solve at line 73 (3 times)]\u001b[0m\n",
      "Cell \u001b[1;32mIn[2], line 73\u001b[0m, in \u001b[0;36msolve\u001b[1;34m(grid)\u001b[0m\n\u001b[0;32m     71\u001b[0m \u001b[38;5;28;01mif\u001b[39;00m isvalid(val, row, colblanks\u001b[38;5;241m.\u001b[39mindex(least), arr):\n\u001b[0;32m     72\u001b[0m     arr[row][colblanks\u001b[38;5;241m.\u001b[39mindex(least)] \u001b[38;5;241m=\u001b[39m val\n\u001b[1;32m---> 73\u001b[0m     \u001b[38;5;28;01mif\u001b[39;00m solve(arr) \u001b[38;5;241m==\u001b[39m \u001b[38;5;28;01mFalse\u001b[39;00m: \u001b[38;5;66;03m#backtracking\u001b[39;00m\n\u001b[0;32m     74\u001b[0m         arr[row][colblanks\u001b[38;5;241m.\u001b[39mindex(least)] \u001b[38;5;241m=\u001b[39m \u001b[38;5;241m0\u001b[39m \u001b[38;5;66;03m# removes prev value\u001b[39;00m\n\u001b[0;32m     75\u001b[0m         \u001b[38;5;28;01mcontinue\u001b[39;00m \u001b[38;5;66;03m# goes back to val iterating to the next value and finding the next valid value\u001b[39;00m\n",
      "Cell \u001b[1;32mIn[2], line 47\u001b[0m, in \u001b[0;36msolve\u001b[1;34m(grid)\u001b[0m\n\u001b[0;32m     45\u001b[0m \u001b[38;5;28;01mif\u001b[39;00m isvalid(val, row, col, arr):\n\u001b[0;32m     46\u001b[0m     arr[row][col] \u001b[38;5;241m=\u001b[39m val\n\u001b[1;32m---> 47\u001b[0m     \u001b[38;5;28;01mif\u001b[39;00m solve(arr) \u001b[38;5;241m==\u001b[39m \u001b[38;5;28;01mFalse\u001b[39;00m: \u001b[38;5;66;03m#backtracking\u001b[39;00m\n\u001b[0;32m     48\u001b[0m         arr[row][col] \u001b[38;5;241m=\u001b[39m \u001b[38;5;241m0\u001b[39m \u001b[38;5;66;03m# removes prev value\u001b[39;00m\n\u001b[0;32m     49\u001b[0m         \u001b[38;5;28;01mcontinue\u001b[39;00m \u001b[38;5;66;03m# goes back to val iterating to the next value and finding the next valid value\u001b[39;00m\n",
      "Cell \u001b[1;32mIn[2], line 45\u001b[0m, in \u001b[0;36msolve\u001b[1;34m(grid)\u001b[0m\n\u001b[0;32m     43\u001b[0m \u001b[38;5;28;01mif\u001b[39;00m arr[row][col] \u001b[38;5;241m==\u001b[39m \u001b[38;5;241m0\u001b[39m:\n\u001b[0;32m     44\u001b[0m     \u001b[38;5;28;01mfor\u001b[39;00m val \u001b[38;5;129;01min\u001b[39;00m \u001b[38;5;28mrange\u001b[39m(\u001b[38;5;241m1\u001b[39m,\u001b[38;5;241m10\u001b[39m): \u001b[38;5;66;03m#iterate through each possible value to put in the box\u001b[39;00m\n\u001b[1;32m---> 45\u001b[0m         \u001b[38;5;28;01mif\u001b[39;00m isvalid(val, row, col, arr):\n\u001b[0;32m     46\u001b[0m             arr[row][col] \u001b[38;5;241m=\u001b[39m val\n\u001b[0;32m     47\u001b[0m             \u001b[38;5;28;01mif\u001b[39;00m solve(arr) \u001b[38;5;241m==\u001b[39m \u001b[38;5;28;01mFalse\u001b[39;00m: \u001b[38;5;66;03m#backtracking\u001b[39;00m\n",
      "Cell \u001b[1;32mIn[2], line 88\u001b[0m, in \u001b[0;36misvalid\u001b[1;34m(val, inrow, incol, arr)\u001b[0m\n\u001b[0;32m     84\u001b[0m \u001b[38;5;28;01mdef\u001b[39;00m \u001b[38;5;21misvalid\u001b[39m(val, inrow, incol, arr):\n\u001b[0;32m     85\u001b[0m \n\u001b[0;32m     86\u001b[0m     \u001b[38;5;66;03m#If the same number already exists on the same row\u001b[39;00m\n\u001b[0;32m     87\u001b[0m     \u001b[38;5;28;01mfor\u001b[39;00m row \u001b[38;5;129;01min\u001b[39;00m \u001b[38;5;28mrange\u001b[39m(\u001b[38;5;241m0\u001b[39m,\u001b[38;5;241m9\u001b[39m):\n\u001b[1;32m---> 88\u001b[0m         \u001b[38;5;28;01mif\u001b[39;00m arr[row][incol] \u001b[38;5;241m==\u001b[39m val:\n\u001b[0;32m     89\u001b[0m             \u001b[38;5;28;01mreturn\u001b[39;00m \u001b[38;5;28;01mFalse\u001b[39;00m\n\u001b[0;32m     91\u001b[0m     \u001b[38;5;66;03m#If the same number already exists on the same col\u001b[39;00m\n",
      "\u001b[1;31mKeyboardInterrupt\u001b[0m: "
     ]
    }
   ],
   "source": [
    "steps = []\n",
    "arr = np.zeros([9, 9], dtype = int)\n",
    "\n",
    "import os\n",
    "os.chdir(\"C:\\\\Users\\\\alson\\\\Desktop\\\\sudokusolver\\\\api\\\\static\\\\puzzles\")\n",
    "data = open(\"puzzles1_unbiased\",'r').readlines()\n",
    "for puz in data[1041:]:\n",
    "    for row in range(9):\n",
    "        for col in range(9):\n",
    "            val = puz[row*9 + col] \n",
    "\n",
    "            if val == '.': \n",
    "                val = 0\n",
    "\n",
    "            arr[row][col] = val\n",
    "    solve(arr)\n",
    "    global aq\n",
    "    steps.append(aq)\n",
    "    print(aq)\n",
    "    aq=0\n",
    "steps    \n",
    "    "
   ]
  },
  {
   "cell_type": "code",
   "execution_count": 4,
   "id": "d376c9f2",
   "metadata": {},
   "outputs": [
    {
     "data": {
      "text/plain": [
       "42147"
      ]
     },
     "execution_count": 4,
     "metadata": {},
     "output_type": "execute_result"
    }
   ],
   "source": [
    "len(steps)"
   ]
  },
  {
   "cell_type": "code",
   "execution_count": 8,
   "id": "87473bde",
   "metadata": {},
   "outputs": [],
   "source": []
  },
  {
   "cell_type": "code",
   "execution_count": 1,
   "id": "df7ca728",
   "metadata": {},
   "outputs": [
    {
     "data": {
      "text/plain": [
       "42147"
      ]
     },
     "execution_count": 1,
     "metadata": {},
     "output_type": "execute_result"
    }
   ],
   "source": [
    "import os\n",
    "os.chdir(\"C:\\\\Users\\\\alson\\\\Desktop\\\\sudokusolver\\\\api\\\\static\\\\puzzles\")\n",
    "hard = open(\"hardest1905.txt\",'r').readlines()\n",
    "hard = [int(num.strip()) for num in hard]\n",
    "len(hard) #2980\n",
    "\n",
    "unbi = open(\"unbiased.txt\",'r').readlines()\n",
    "unbi = [int(num.strip()) for num in unbi]\n",
    "len(unbi) #42147"
   ]
  },
  {
   "cell_type": "code",
   "execution_count": 13,
   "id": "d89060a3",
   "metadata": {},
   "outputs": [
    {
     "data": {
      "text/plain": [
       "42417"
      ]
     },
     "execution_count": 13,
     "metadata": {},
     "output_type": "execute_result"
    }
   ],
   "source": [
    "os.chdir(\"C:\\\\Users\\\\alson\\\\Desktop\\\\sudokusolver\\\\api\\\\static\\\\puzzles\")\n",
    "len(open(\"puzzles1_unbiased\",'r').readlines()) #2980"
   ]
  },
  {
   "cell_type": "code",
   "execution_count": 5,
   "id": "a727492e",
   "metadata": {},
   "outputs": [
    {
     "data": {
      "image/png": "[encoded data removed]",
      "text/plain": [
       "<Figure size 640x480 with 1 Axes>"
      ]
     },
     "metadata": {},
     "output_type": "display_data"
    }
   ],
   "source": [
    "import matplotlib.pyplot as plt\n",
    "# Plot two box plots side by side\n",
    "plt.boxplot([unbi, hard])\n",
    "\n",
    "# Add labels and title\n",
    "#plt.title(\"Two Box Plots Side by Side\")\n",
    "plt.xticks([1, 2], ['unbiased', 'hardest1905'])  # Set x-axis labels\n",
    "plt.ylabel(\"Steps\")\n",
    "\n",
    "# Show the plot\n",
    "plt.show()"
   ]
  },
  {
   "cell_type": "code",
   "execution_count": 46,
   "id": "31b627ba",
   "metadata": {},
   "outputs": [
    {
     "data": {
      "image/png": "[encoded data removed]",
      "text/plain": [
       "<Figure size 640x480 with 1 Axes>"
      ]
     },
     "metadata": {},
     "output_type": "display_data"
    }
   ],
   "source": [
    "# Set y-axis limits\n",
    "plt.ylim(0, 200000)  # Adjust the range as needed\n",
    "\n",
    "# Plot two box plots side by side\n",
    "plt.boxplot([unbi, hard])\n",
    "\n",
    "# Add labels and title\n",
    "#plt.title(\"Two Box Plots Side by Side\")\n",
    "plt.xticks([1, 2], ['unbiased', 'hardest1905'])  # Set x-axis labels\n",
    "plt.ylabel(\"Steps\")\n",
    "\n",
    "# Show the plot\n",
    "plt.show()"
   ]
  },
  {
   "cell_type": "code",
   "execution_count": 6,
   "id": "8afaa393",
   "metadata": {},
   "outputs": [
    {
     "name": "stdout",
     "output_type": "stream",
     "text": [
      "Percentiles for unbiased:\n",
      "0th percentile: 57.0\n",
      "25th percentile: 773.0\n",
      "50th percentile: 2108.0\n",
      "75th percentile: 5647.5\n",
      "100th percentile: 1004620.0\n",
      "Standard deviation for unbi: 15601.559439744562\n",
      "\n",
      "Percentiles for hard:\n",
      "0th percentile: 77.0\n",
      "25th percentile: 56756.0\n",
      "50th percentile: 150899.0\n",
      "75th percentile: 331841.25\n",
      "100th percentile: 5492954.0\n",
      "Standard deviation for unbi: 421085.83049744746\n"
     ]
    }
   ],
   "source": [
    "import numpy as np\n",
    "# Define the percentiles\n",
    "percentiles = [0, 25, 50, 75, 100]\n",
    "\n",
    "# Calculate percentiles for each dataset\n",
    "percentiles_unbi = np.percentile(unbi, percentiles)\n",
    "percentiles_hard = np.percentile(hard, percentiles)\n",
    "std_unbi = np.std(unbi)\n",
    "std_hard = np.std(hard)\n",
    "\n",
    "# Print the results\n",
    "print(\"Percentiles for unbiased:\")\n",
    "for p, value in zip(percentiles, percentiles_unbi):\n",
    "    print(f\"{p}th percentile: {value}\")\n",
    "print(f\"Standard deviation for unbi: {std_unbi}\")\n",
    "\n",
    "print(\"\\nPercentiles for hard:\")\n",
    "for p, value in zip(percentiles, percentiles_hard):\n",
    "    print(f\"{p}th percentile: {value}\")\n",
    "print(f\"Standard deviation for unbi: {std_hard}\")"
   ]
  }
 ],
 "metadata": {
  "kernelspec": {
   "display_name": "Python 3 (ipykernel)",
   "language": "python",
   "name": "python3"
  },
  "language_info": {
   "codemirror_mode": {
    "name": "ipython",
    "version": 3
   },
   "file_extension": ".py",
   "mimetype": "text/x-python",
   "name": "python",
   "nbconvert_exporter": "python",
   "pygments_lexer": "ipython3",
   "version": "3.11.7"
  }
 },
 "nbformat": 4,
 "nbformat_minor": 5
}
